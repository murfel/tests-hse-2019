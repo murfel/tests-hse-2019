{
 "cells": [
  {
   "cell_type": "code",
   "execution_count": 153,
   "metadata": {},
   "outputs": [],
   "source": [
    "cases = [[] for x in range(45)]\n",
    "for l in [5,3]:\n",
    "    for num in range(len(cases)):\n",
    "        cases[num].append(num % l + 1)"
   ]
  },
  {
   "cell_type": "code",
   "execution_count": 154,
   "metadata": {},
   "outputs": [],
   "source": [
    "for num in range(len(cases)):\n",
    "    keks = [1,1,1,2,2,2,3,3,3]\n",
    "    cases[num].append(keks[num % len(keks)])"
   ]
  },
  {
   "cell_type": "code",
   "execution_count": 155,
   "metadata": {},
   "outputs": [],
   "source": [
    "for num in range(len(cases)):\n",
    "    keks = [1,2,2,1]\n",
    "    cases[num].append(keks[num % len(keks)])"
   ]
  },
  {
   "cell_type": "code",
   "execution_count": 156,
   "metadata": {},
   "outputs": [
    {
     "data": {
      "text/plain": [
       "[[1, 1, 1, 1],\n",
       " [2, 2, 1, 2],\n",
       " [3, 3, 1, 2],\n",
       " [4, 1, 2, 1],\n",
       " [5, 2, 2, 1],\n",
       " [1, 3, 2, 2],\n",
       " [2, 1, 3, 2],\n",
       " [3, 2, 3, 1],\n",
       " [4, 3, 3, 1],\n",
       " [5, 1, 1, 2],\n",
       " [1, 2, 1, 2],\n",
       " [2, 3, 1, 1],\n",
       " [3, 1, 2, 1],\n",
       " [4, 2, 2, 2],\n",
       " [5, 3, 2, 2],\n",
       " [1, 1, 3, 1],\n",
       " [2, 2, 3, 1],\n",
       " [3, 3, 3, 2],\n",
       " [4, 1, 1, 2],\n",
       " [5, 2, 1, 1],\n",
       " [1, 3, 1, 1],\n",
       " [2, 1, 2, 2],\n",
       " [3, 2, 2, 2],\n",
       " [4, 3, 2, 1],\n",
       " [5, 1, 3, 1],\n",
       " [1, 2, 3, 2],\n",
       " [2, 3, 3, 2],\n",
       " [3, 1, 1, 1],\n",
       " [4, 2, 1, 1],\n",
       " [5, 3, 1, 2],\n",
       " [1, 1, 2, 2],\n",
       " [2, 2, 2, 1],\n",
       " [3, 3, 2, 1],\n",
       " [4, 1, 3, 2],\n",
       " [5, 2, 3, 2],\n",
       " [1, 3, 3, 1],\n",
       " [2, 1, 1, 1],\n",
       " [3, 2, 1, 2],\n",
       " [4, 3, 1, 2],\n",
       " [5, 1, 2, 1],\n",
       " [1, 2, 2, 1],\n",
       " [2, 3, 2, 2],\n",
       " [3, 1, 3, 2],\n",
       " [4, 2, 3, 1],\n",
       " [5, 3, 3, 1]]"
      ]
     },
     "execution_count": 156,
     "metadata": {},
     "output_type": "execute_result"
    }
   ],
   "source": [
    "cases"
   ]
  },
  {
   "cell_type": "code",
   "execution_count": 157,
   "metadata": {},
   "outputs": [],
   "source": [
    "triples = set()\n",
    "def go3(row):\n",
    "    l = [row[0]+row[1]+row[2]+'0', row[0]+row[1]+'0'+row[3], row[0]+'0'+row[2]+row[3], '0'+row[1]+row[2]+row[3]]\n",
    "    cnt = sum(x not in triples for x in l)\n",
    "    [triples.add(x) for x in l]\n",
    "    return cnt"
   ]
  },
  {
   "cell_type": "code",
   "execution_count": 158,
   "metadata": {},
   "outputs": [],
   "source": [
    "s_cases = [''.join(map(str, x)) for x in cases]"
   ]
  },
  {
   "cell_type": "code",
   "execution_count": 159,
   "metadata": {},
   "outputs": [
    {
     "name": "stdout",
     "output_type": "stream",
     "text": [
      "4 + 4 + 4 + 4 + 4 + 4 + 4 + 4 + 4 + 4 + 3 + 4 + 3 + 4 + 3 + 3 + 3 + 3 + 3 + 3 + 2 + 3 + 3 + 2 + 3 + 3 + 2 + 2 + 3 + 1 + 2 + 2 + 2 + 2 + 3 + 1 + 2 + 1 + 2 + 1 + 3 + 1 + 2 + 1 + 2 + "
     ]
    }
   ],
   "source": [
    "go_cnt = 0\n",
    "for i, c in enumerate(s_cases):\n",
    "    go_value = go3(c)\n",
    "    go_cnt += go_value\n",
    "    nums = [i+1, c[0], c[1], c[2], c[3], go_value]\n",
    "#     print('\\t'.join(map(str, nums)))\n",
    "    print(go_value, '+', end=' ')"
   ]
  },
  {
   "cell_type": "code",
   "execution_count": 160,
   "metadata": {},
   "outputs": [
    {
     "data": {
      "text/plain": [
       "123"
      ]
     },
     "execution_count": 160,
     "metadata": {},
     "output_type": "execute_result"
    }
   ],
   "source": [
    "len(triples)"
   ]
  },
  {
   "cell_type": "code",
   "execution_count": 161,
   "metadata": {},
   "outputs": [
    {
     "data": {
      "text/plain": [
       "123"
      ]
     },
     "execution_count": 161,
     "metadata": {},
     "output_type": "execute_result"
    }
   ],
   "source": [
    "go_cnt"
   ]
  },
  {
   "cell_type": "code",
   "execution_count": 162,
   "metadata": {},
   "outputs": [
    {
     "data": {
      "text/plain": [
       "123"
      ]
     },
     "execution_count": 162,
     "metadata": {},
     "output_type": "execute_result"
    }
   ],
   "source": [
    "3*3*2+5*3*2+5*3*2+5*3*3"
   ]
  }
 ],
 "metadata": {
  "kernelspec": {
   "display_name": "Python 3",
   "language": "python",
   "name": "python3"
  },
  "language_info": {
   "codemirror_mode": {
    "name": "ipython",
    "version": 3
   },
   "file_extension": ".py",
   "mimetype": "text/x-python",
   "name": "python",
   "nbconvert_exporter": "python",
   "pygments_lexer": "ipython3",
   "version": "3.7.3"
  }
 },
 "nbformat": 4,
 "nbformat_minor": 2
}
