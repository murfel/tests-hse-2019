{
 "cells": [
  {
   "cell_type": "code",
   "execution_count": 115,
   "metadata": {},
   "outputs": [],
   "source": [
    "cases = [[] for x in range(15)]"
   ]
  },
  {
   "cell_type": "code",
   "execution_count": 116,
   "metadata": {},
   "outputs": [],
   "source": [
    "for num in range(len(cases)):\n",
    "    cases[num].append(num // 3 + 1)"
   ]
  },
  {
   "cell_type": "code",
   "execution_count": 117,
   "metadata": {},
   "outputs": [],
   "source": [
    "for num in range(len(cases)):\n",
    "    cases[num].append(num % 3 + 1)"
   ]
  },
  {
   "cell_type": "code",
   "execution_count": 118,
   "metadata": {},
   "outputs": [],
   "source": [
    "for num in range(len(cases)):\n",
    "    keks = [1,2,3,3,1,2,2,3,1]\n",
    "    cases[num].append(keks[num % len(keks)])"
   ]
  },
  {
   "cell_type": "code",
   "execution_count": 119,
   "metadata": {},
   "outputs": [],
   "source": [
    "for num in range(len(cases)):\n",
    "    keks = [1,2]\n",
    "    cases[num].append(keks[num % len(keks)])"
   ]
  },
  {
   "cell_type": "code",
   "execution_count": 120,
   "metadata": {},
   "outputs": [
    {
     "data": {
      "text/plain": [
       "[[1, 1, 1, 1],\n",
       " [1, 2, 2, 2],\n",
       " [1, 3, 3, 1],\n",
       " [2, 1, 3, 2],\n",
       " [2, 2, 1, 1],\n",
       " [2, 3, 2, 2],\n",
       " [3, 1, 2, 1],\n",
       " [3, 2, 3, 2],\n",
       " [3, 3, 1, 1],\n",
       " [4, 1, 1, 2],\n",
       " [4, 2, 2, 1],\n",
       " [4, 3, 3, 2],\n",
       " [5, 1, 3, 1],\n",
       " [5, 2, 1, 2],\n",
       " [5, 3, 2, 1]]"
      ]
     },
     "execution_count": 120,
     "metadata": {},
     "output_type": "execute_result"
    }
   ],
   "source": [
    "cases"
   ]
  },
  {
   "cell_type": "code",
   "execution_count": 121,
   "metadata": {},
   "outputs": [],
   "source": [
    "pairs = set()\n",
    "def go2(row):\n",
    "    l = [row[0]+row[1]+'00', row[0]+'0'+row[2]+'0', row[0]+'00'+row[3], '0'+row[1]+row[2]+'0', '0'+row[1]+'0'+row[3], '00'+row[2]+row[3]]\n",
    "    cnt = sum(x not in pairs for x in l)\n",
    "    [pairs.add(x) for x in l]\n",
    "    return cnt"
   ]
  },
  {
   "cell_type": "code",
   "execution_count": 122,
   "metadata": {},
   "outputs": [],
   "source": [
    "s_cases = [''.join(map(str, x)) for x in cases]"
   ]
  },
  {
   "cell_type": "code",
   "execution_count": 123,
   "metadata": {},
   "outputs": [
    {
     "name": "stdout",
     "output_type": "stream",
     "text": [
      "1\t1\t1\t1\t1\t6\n",
      "2\t1\t2\t2\t2\t6\n",
      "3\t1\t3\t3\t1\t5\n",
      "4\t2\t1\t3\t2\t6\n",
      "5\t2\t2\t1\t1\t5\n",
      "6\t2\t3\t2\t2\t4\n",
      "7\t3\t1\t2\t1\t5\n",
      "8\t3\t2\t3\t2\t4\n",
      "9\t3\t3\t1\t1\t3\n",
      "10\t4\t1\t1\t2\t4\n",
      "11\t4\t2\t2\t1\t3\n",
      "12\t4\t3\t3\t2\t2\n",
      "13\t5\t1\t3\t1\t3\n",
      "14\t5\t2\t1\t2\t3\n",
      "15\t5\t3\t2\t1\t2\n"
     ]
    }
   ],
   "source": [
    "go_cnt = 0\n",
    "for i, c in enumerate(s_cases):\n",
    "    go_value = go2(c)\n",
    "    go_cnt += go_value\n",
    "    nums = [i+1, c[0], c[1], c[2], c[3], go_value]\n",
    "    print('\\t'.join(map(str, nums)))"
   ]
  },
  {
   "cell_type": "code",
   "execution_count": 124,
   "metadata": {},
   "outputs": [
    {
     "data": {
      "text/plain": [
       "61"
      ]
     },
     "execution_count": 124,
     "metadata": {},
     "output_type": "execute_result"
    }
   ],
   "source": [
    "len(pairs)"
   ]
  },
  {
   "cell_type": "code",
   "execution_count": 126,
   "metadata": {},
   "outputs": [
    {
     "data": {
      "text/plain": [
       "61"
      ]
     },
     "execution_count": 126,
     "metadata": {},
     "output_type": "execute_result"
    }
   ],
   "source": [
    "go_cnt"
   ]
  },
  {
   "cell_type": "code",
   "execution_count": 128,
   "metadata": {},
   "outputs": [
    {
     "data": {
      "text/plain": [
       "61"
      ]
     },
     "execution_count": 128,
     "metadata": {},
     "output_type": "execute_result"
    }
   ],
   "source": [
    "5*(3+3+2)+3*(3+2)+3*2"
   ]
  }
 ],
 "metadata": {
  "kernelspec": {
   "display_name": "Python 3",
   "language": "python",
   "name": "python3"
  },
  "language_info": {
   "codemirror_mode": {
    "name": "ipython",
    "version": 3
   },
   "file_extension": ".py",
   "mimetype": "text/x-python",
   "name": "python",
   "nbconvert_exporter": "python",
   "pygments_lexer": "ipython3",
   "version": "3.7.3"
  }
 },
 "nbformat": 4,
 "nbformat_minor": 2
}
